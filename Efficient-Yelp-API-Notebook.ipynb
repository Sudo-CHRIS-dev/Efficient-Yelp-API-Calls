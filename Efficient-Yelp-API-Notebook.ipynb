{
 "cells": [
  {
   "cell_type": "code",
   "execution_count": 1,
   "metadata": {},
   "outputs": [],
   "source": [
    "# Standard Imports\n",
    "import numpy as np\n",
    "import pandas as pd\n",
    "import matplotlib.pyplot as plt\n",
    "import seaborn as sns\n",
    "# Additional Imports\n",
    "import os, json, math, time\n",
    "from yelpapi import YelpAPI\n",
    "from tqdm.notebook import tqdm_notebook"
   ]
  },
  {
   "cell_type": "code",
   "execution_count": 2,
   "metadata": {},
   "outputs": [],
   "source": [
    "# Load API Credentials\n",
    "with open('/Users/CHBAM/.secret/yelp_api.json') as f:\n",
    "    login = json.load(f)\n",
    "yelp_api = YelpAPI(login['api-key'], timeout_s=5.0)"
   ]
  },
  {
   "cell_type": "code",
   "execution_count": 3,
   "metadata": {},
   "outputs": [],
   "source": [
    "# set our API call parameters \n",
    "LOCATION = 'NY,NY'\n",
    "TERM = 'Burger'"
   ]
  },
  {
   "cell_type": "code",
   "execution_count": 4,
   "metadata": {},
   "outputs": [
    {
     "name": "stdout",
     "output_type": "stream",
     "text": [
      "[i] Data/results_NY_Burger.json not found. Saving empty list to file.\n"
     ]
    }
   ],
   "source": [
    "JSON_FILE = \"Data/results_NY_Burger.json\"\n",
    "folder = os.path.dirname(JSON_FILE)\n",
    "## If JSON_FILE included a folder:\n",
    "if len(folder)>0:\n",
    "   # create the folder\n",
    "   os.makedirs(folder,exist_ok=True)\n",
    "   \n",
    "## INFORM USER AND SAVE EMPTY LIST\n",
    "print(f'[i] {JSON_FILE} not found. Saving empty list to file.')\n",
    "\n",
    "\n",
    "# save an empty list\n",
    "with open(JSON_FILE,'w') as f:\n",
    "   json.dump([],f)  "
   ]
  },
  {
   "cell_type": "code",
   "execution_count": 7,
   "metadata": {},
   "outputs": [
    {
     "data": {
      "text/plain": [
       "dict_keys(['businesses', 'total', 'region'])"
      ]
     },
     "execution_count": 7,
     "metadata": {},
     "output_type": "execute_result"
    }
   ],
   "source": [
    "# use our yelp_api variable's search_query method to perform our API call\n",
    "results = yelp_api.search_query(location=LOCATION,\n",
    "                                term=TERM,\n",
    "                                offset=0)\n",
    "results.keys()"
   ]
  },
  {
   "cell_type": "code",
   "execution_count": 8,
   "metadata": {},
   "outputs": [
    {
     "data": {
      "text/plain": [
       "14500"
      ]
     },
     "execution_count": 8,
     "metadata": {},
     "output_type": "execute_result"
    }
   ],
   "source": [
    "total_results = results['total']\n",
    "total_results"
   ]
  },
  {
   "cell_type": "code",
   "execution_count": 9,
   "metadata": {},
   "outputs": [
    {
     "data": {
      "text/plain": [
       "20"
      ]
     },
     "execution_count": 9,
     "metadata": {},
     "output_type": "execute_result"
    }
   ],
   "source": [
    "## How many did we get the details for?\n",
    "results_per_page = len(results['businesses'])\n",
    "results_per_page"
   ]
  },
  {
   "cell_type": "code",
   "execution_count": 11,
   "metadata": {},
   "outputs": [
    {
     "data": {
      "text/plain": [
       "725"
      ]
     },
     "execution_count": 11,
     "metadata": {},
     "output_type": "execute_result"
    }
   ],
   "source": [
    "# Import additional packages for controlling our loop\n",
    "import time, math\n",
    "# Use math.ceil to round up for the total number of pages of results.\n",
    "n_pages = math.ceil((results['total']-0)/ results_per_page)\n",
    "n_pages"
   ]
  },
  {
   "cell_type": "code",
   "execution_count": 12,
   "metadata": {},
   "outputs": [
    {
     "data": {
      "application/vnd.jupyter.widget-view+json": {
       "model_id": "d824b03258b04eecaa72aab0166a4c63",
       "version_major": 2,
       "version_minor": 0
      },
      "text/plain": [
       "  0%|          | 0/725 [00:00<?, ?it/s]"
      ]
     },
     "metadata": {},
     "output_type": "display_data"
    }
   ],
   "source": [
    "from tqdm.notebook import tqdm_notebook\n",
    "import time\n",
    "for i in tqdm_notebook(range(n_pages)):\n",
    "    # adds 200 ms pause\n",
    "    time.sleep(.2) "
   ]
  },
  {
   "cell_type": "code",
   "execution_count": null,
   "metadata": {},
   "outputs": [],
   "source": [
    "for i in tqdm_notebook( range(1,n_pages+1)):\n",
    "    \n",
    "    ## Read in results in progress file and check the length\n",
    "    with open(JSON_FILE, 'r') as f:\n",
    "        previous_results = json.load(f)\n",
    "    ## save number of results for to use as offset\n",
    "    n_results = len(previous_results)\n",
    "    ## use n_results as the OFFSET \n",
    "    results = yelp_api.search_query(location=LOCATION,\n",
    "                                    term=TERM, \n",
    "                                    offset=n_results)\n",
    "    \n",
    "    ## append new results and save to file\n",
    "    previous_results.extend(results['businesses'])\n",
    "    \n",
    "    with open(JSON_FILE,'w') as f:\n",
    "        json.dump(previous_results,f)\n",
    "    \n",
    "    # add a 200ms pause\n",
    "    time.sleep(.2)"
   ]
  },
  {
   "cell_type": "code",
   "execution_count": 17,
   "metadata": {},
   "outputs": [
    {
     "data": {
      "text/html": [
       "<div>\n",
       "<style scoped>\n",
       "    .dataframe tbody tr th:only-of-type {\n",
       "        vertical-align: middle;\n",
       "    }\n",
       "\n",
       "    .dataframe tbody tr th {\n",
       "        vertical-align: top;\n",
       "    }\n",
       "\n",
       "    .dataframe thead th {\n",
       "        text-align: right;\n",
       "    }\n",
       "</style>\n",
       "<table border=\"1\" class=\"dataframe\">\n",
       "  <thead>\n",
       "    <tr style=\"text-align: right;\">\n",
       "      <th></th>\n",
       "      <th>id</th>\n",
       "      <th>alias</th>\n",
       "      <th>name</th>\n",
       "      <th>image_url</th>\n",
       "      <th>is_closed</th>\n",
       "      <th>url</th>\n",
       "      <th>review_count</th>\n",
       "      <th>categories</th>\n",
       "      <th>rating</th>\n",
       "      <th>coordinates</th>\n",
       "      <th>transactions</th>\n",
       "      <th>price</th>\n",
       "      <th>location</th>\n",
       "      <th>phone</th>\n",
       "      <th>display_phone</th>\n",
       "      <th>distance</th>\n",
       "    </tr>\n",
       "  </thead>\n",
       "  <tbody>\n",
       "    <tr>\n",
       "      <th>0</th>\n",
       "      <td>VVYea3NzbklOyHEzSEavWw</td>\n",
       "      <td>7th-street-burger-times-square-new-york</td>\n",
       "      <td>7th Street Burger - Times Square</td>\n",
       "      <td>https://s3-media1.fl.yelpcdn.com/bphoto/un0Pg-...</td>\n",
       "      <td>False</td>\n",
       "      <td>https://www.yelp.com/biz/7th-street-burger-tim...</td>\n",
       "      <td>125</td>\n",
       "      <td>[{'alias': 'burgers', 'title': 'Burgers'}, {'a...</td>\n",
       "      <td>4.5</td>\n",
       "      <td>{'latitude': 40.75238, 'longitude': -73.98939}</td>\n",
       "      <td>[delivery, pickup]</td>\n",
       "      <td>$$</td>\n",
       "      <td>{'address1': '485 7th Ave', 'address2': None, ...</td>\n",
       "      <td></td>\n",
       "      <td></td>\n",
       "      <td>5229.695192</td>\n",
       "    </tr>\n",
       "    <tr>\n",
       "      <th>1</th>\n",
       "      <td>S5ItalpL6lIosnBfWJm7uw</td>\n",
       "      <td>stack-d-burger-brooklyn</td>\n",
       "      <td>Stack’d Burger</td>\n",
       "      <td>https://s3-media1.fl.yelpcdn.com/bphoto/nBS4Ls...</td>\n",
       "      <td>False</td>\n",
       "      <td>https://www.yelp.com/biz/stack-d-burger-brookl...</td>\n",
       "      <td>6</td>\n",
       "      <td>[{'alias': 'chickenshop', 'title': 'Chicken Sh...</td>\n",
       "      <td>5.0</td>\n",
       "      <td>{'latitude': 40.68823, 'longitude': -73.98132}</td>\n",
       "      <td>[]</td>\n",
       "      <td>NaN</td>\n",
       "      <td>{'address1': '20 Nevins St', 'address2': '', '...</td>\n",
       "      <td></td>\n",
       "      <td></td>\n",
       "      <td>2202.348453</td>\n",
       "    </tr>\n",
       "    <tr>\n",
       "      <th>2</th>\n",
       "      <td>8xpGj_YkI2X6QxqXUJPw7g</td>\n",
       "      <td>7th-street-burger-new-york-18</td>\n",
       "      <td>7th Street Burger</td>\n",
       "      <td>https://s3-media2.fl.yelpcdn.com/bphoto/GYqi52...</td>\n",
       "      <td>False</td>\n",
       "      <td>https://www.yelp.com/biz/7th-street-burger-new...</td>\n",
       "      <td>334</td>\n",
       "      <td>[{'alias': 'burgers', 'title': 'Burgers'}]</td>\n",
       "      <td>4.5</td>\n",
       "      <td>{'latitude': 40.72697, 'longitude': -73.98546}</td>\n",
       "      <td>[delivery, pickup]</td>\n",
       "      <td>$$</td>\n",
       "      <td>{'address1': '91 E 7th St', 'address2': None, ...</td>\n",
       "      <td>+16464906797</td>\n",
       "      <td>(646) 490-6797</td>\n",
       "      <td>2506.692303</td>\n",
       "    </tr>\n",
       "    <tr>\n",
       "      <th>3</th>\n",
       "      <td>XRjeE9yFANgsG12FWUOoXg</td>\n",
       "      <td>gair-brooklyn</td>\n",
       "      <td>Gair</td>\n",
       "      <td>https://s3-media4.fl.yelpcdn.com/bphoto/ZLAi5s...</td>\n",
       "      <td>False</td>\n",
       "      <td>https://www.yelp.com/biz/gair-brooklyn?adjust_...</td>\n",
       "      <td>2</td>\n",
       "      <td>[{'alias': 'cocktailbars', 'title': 'Cocktail ...</td>\n",
       "      <td>5.0</td>\n",
       "      <td>{'latitude': 40.703113254983855, 'longitude': ...</td>\n",
       "      <td>[]</td>\n",
       "      <td>NaN</td>\n",
       "      <td>{'address1': '41 Washington St', 'address2': '...</td>\n",
       "      <td>+17182332595</td>\n",
       "      <td>(718) 233-2595</td>\n",
       "      <td>486.167974</td>\n",
       "    </tr>\n",
       "    <tr>\n",
       "      <th>4</th>\n",
       "      <td>H26qMBb0OFNn2xmSTM1Phw</td>\n",
       "      <td>kings-of-kobe-new-york-8</td>\n",
       "      <td>Kings of Kobe</td>\n",
       "      <td>https://s3-media2.fl.yelpcdn.com/bphoto/AF-AC5...</td>\n",
       "      <td>False</td>\n",
       "      <td>https://www.yelp.com/biz/kings-of-kobe-new-yor...</td>\n",
       "      <td>451</td>\n",
       "      <td>[{'alias': 'burgers', 'title': 'Burgers'}, {'a...</td>\n",
       "      <td>4.5</td>\n",
       "      <td>{'latitude': 40.761172, 'longitude': -74.000307}</td>\n",
       "      <td>[delivery, pickup]</td>\n",
       "      <td>$$</td>\n",
       "      <td>{'address1': '650 W 42nd St', 'address2': None...</td>\n",
       "      <td>+16463705121</td>\n",
       "      <td>(646) 370-5121</td>\n",
       "      <td>6217.251058</td>\n",
       "    </tr>\n",
       "  </tbody>\n",
       "</table>\n",
       "</div>"
      ],
      "text/plain": [
       "                       id                                    alias  \\\n",
       "0  VVYea3NzbklOyHEzSEavWw  7th-street-burger-times-square-new-york   \n",
       "1  S5ItalpL6lIosnBfWJm7uw                  stack-d-burger-brooklyn   \n",
       "2  8xpGj_YkI2X6QxqXUJPw7g            7th-street-burger-new-york-18   \n",
       "3  XRjeE9yFANgsG12FWUOoXg                            gair-brooklyn   \n",
       "4  H26qMBb0OFNn2xmSTM1Phw                 kings-of-kobe-new-york-8   \n",
       "\n",
       "                               name  \\\n",
       "0  7th Street Burger - Times Square   \n",
       "1                    Stack’d Burger   \n",
       "2                 7th Street Burger   \n",
       "3                              Gair   \n",
       "4                     Kings of Kobe   \n",
       "\n",
       "                                           image_url  is_closed  \\\n",
       "0  https://s3-media1.fl.yelpcdn.com/bphoto/un0Pg-...      False   \n",
       "1  https://s3-media1.fl.yelpcdn.com/bphoto/nBS4Ls...      False   \n",
       "2  https://s3-media2.fl.yelpcdn.com/bphoto/GYqi52...      False   \n",
       "3  https://s3-media4.fl.yelpcdn.com/bphoto/ZLAi5s...      False   \n",
       "4  https://s3-media2.fl.yelpcdn.com/bphoto/AF-AC5...      False   \n",
       "\n",
       "                                                 url  review_count  \\\n",
       "0  https://www.yelp.com/biz/7th-street-burger-tim...           125   \n",
       "1  https://www.yelp.com/biz/stack-d-burger-brookl...             6   \n",
       "2  https://www.yelp.com/biz/7th-street-burger-new...           334   \n",
       "3  https://www.yelp.com/biz/gair-brooklyn?adjust_...             2   \n",
       "4  https://www.yelp.com/biz/kings-of-kobe-new-yor...           451   \n",
       "\n",
       "                                          categories  rating  \\\n",
       "0  [{'alias': 'burgers', 'title': 'Burgers'}, {'a...     4.5   \n",
       "1  [{'alias': 'chickenshop', 'title': 'Chicken Sh...     5.0   \n",
       "2         [{'alias': 'burgers', 'title': 'Burgers'}]     4.5   \n",
       "3  [{'alias': 'cocktailbars', 'title': 'Cocktail ...     5.0   \n",
       "4  [{'alias': 'burgers', 'title': 'Burgers'}, {'a...     4.5   \n",
       "\n",
       "                                         coordinates        transactions  \\\n",
       "0     {'latitude': 40.75238, 'longitude': -73.98939}  [delivery, pickup]   \n",
       "1     {'latitude': 40.68823, 'longitude': -73.98132}                  []   \n",
       "2     {'latitude': 40.72697, 'longitude': -73.98546}  [delivery, pickup]   \n",
       "3  {'latitude': 40.703113254983855, 'longitude': ...                  []   \n",
       "4   {'latitude': 40.761172, 'longitude': -74.000307}  [delivery, pickup]   \n",
       "\n",
       "  price                                           location         phone  \\\n",
       "0    $$  {'address1': '485 7th Ave', 'address2': None, ...                 \n",
       "1   NaN  {'address1': '20 Nevins St', 'address2': '', '...                 \n",
       "2    $$  {'address1': '91 E 7th St', 'address2': None, ...  +16464906797   \n",
       "3   NaN  {'address1': '41 Washington St', 'address2': '...  +17182332595   \n",
       "4    $$  {'address1': '650 W 42nd St', 'address2': None...  +16463705121   \n",
       "\n",
       "    display_phone     distance  \n",
       "0                  5229.695192  \n",
       "1                  2202.348453  \n",
       "2  (646) 490-6797  2506.692303  \n",
       "3  (718) 233-2595   486.167974  \n",
       "4  (646) 370-5121  6217.251058  "
      ]
     },
     "metadata": {},
     "output_type": "display_data"
    },
    {
     "data": {
      "text/html": [
       "<div>\n",
       "<style scoped>\n",
       "    .dataframe tbody tr th:only-of-type {\n",
       "        vertical-align: middle;\n",
       "    }\n",
       "\n",
       "    .dataframe tbody tr th {\n",
       "        vertical-align: top;\n",
       "    }\n",
       "\n",
       "    .dataframe thead th {\n",
       "        text-align: right;\n",
       "    }\n",
       "</style>\n",
       "<table border=\"1\" class=\"dataframe\">\n",
       "  <thead>\n",
       "    <tr style=\"text-align: right;\">\n",
       "      <th></th>\n",
       "      <th>id</th>\n",
       "      <th>alias</th>\n",
       "      <th>name</th>\n",
       "      <th>image_url</th>\n",
       "      <th>is_closed</th>\n",
       "      <th>url</th>\n",
       "      <th>review_count</th>\n",
       "      <th>categories</th>\n",
       "      <th>rating</th>\n",
       "      <th>coordinates</th>\n",
       "      <th>transactions</th>\n",
       "      <th>price</th>\n",
       "      <th>location</th>\n",
       "      <th>phone</th>\n",
       "      <th>display_phone</th>\n",
       "      <th>distance</th>\n",
       "    </tr>\n",
       "  </thead>\n",
       "  <tbody>\n",
       "    <tr>\n",
       "      <th>995</th>\n",
       "      <td>nEe-yQHNVXLmKj_GLLcElw</td>\n",
       "      <td>sheikh-shack-jamaica-2</td>\n",
       "      <td>Sheikh Shack</td>\n",
       "      <td>https://s3-media1.fl.yelpcdn.com/bphoto/Udc5SK...</td>\n",
       "      <td>False</td>\n",
       "      <td>https://www.yelp.com/biz/sheikh-shack-jamaica-...</td>\n",
       "      <td>41</td>\n",
       "      <td>[{'alias': 'halal', 'title': 'Halal'}, {'alias...</td>\n",
       "      <td>4.5</td>\n",
       "      <td>{'latitude': 40.71826657788154, 'longitude': -...</td>\n",
       "      <td>[delivery, pickup]</td>\n",
       "      <td>$$</td>\n",
       "      <td>{'address1': '82-37 164th St', 'address2': '',...</td>\n",
       "      <td>+13478293052</td>\n",
       "      <td>(347) 829-3052</td>\n",
       "      <td>16149.421298</td>\n",
       "    </tr>\n",
       "    <tr>\n",
       "      <th>996</th>\n",
       "      <td>aGmh7n-HXgcIPs5xFhK2Tw</td>\n",
       "      <td>bosna-express-ridgewood</td>\n",
       "      <td>Bosna Express</td>\n",
       "      <td>https://s3-media3.fl.yelpcdn.com/bphoto/mLjai1...</td>\n",
       "      <td>False</td>\n",
       "      <td>https://www.yelp.com/biz/bosna-express-ridgewo...</td>\n",
       "      <td>69</td>\n",
       "      <td>[{'alias': 'burgers', 'title': 'Burgers'}, {'a...</td>\n",
       "      <td>4.0</td>\n",
       "      <td>{'latitude': 40.7047891351813, 'longitude': -7...</td>\n",
       "      <td>[delivery, pickup]</td>\n",
       "      <td>$</td>\n",
       "      <td>{'address1': '791 Fairview Ave', 'address2': '...</td>\n",
       "      <td>+17184977577</td>\n",
       "      <td>(718) 497-7577</td>\n",
       "      <td>7746.034165</td>\n",
       "    </tr>\n",
       "    <tr>\n",
       "      <th>997</th>\n",
       "      <td>pGZ4AOzVlhveJi6WJ1Xz6g</td>\n",
       "      <td>bareburger-park-slope-brooklyn</td>\n",
       "      <td>Bareburger - Park Slope</td>\n",
       "      <td>https://s3-media3.fl.yelpcdn.com/bphoto/7TBH3P...</td>\n",
       "      <td>False</td>\n",
       "      <td>https://www.yelp.com/biz/bareburger-park-slope...</td>\n",
       "      <td>533</td>\n",
       "      <td>[{'alias': 'burgers', 'title': 'Burgers'}, {'a...</td>\n",
       "      <td>3.5</td>\n",
       "      <td>{'latitude': 40.67188, 'longitude': -73.97761}</td>\n",
       "      <td>[delivery, pickup]</td>\n",
       "      <td>$$</td>\n",
       "      <td>{'address1': '170 7th Ave', 'address2': '', 'a...</td>\n",
       "      <td>+17187682273</td>\n",
       "      <td>(718) 768-2273</td>\n",
       "      <td>3984.887073</td>\n",
       "    </tr>\n",
       "    <tr>\n",
       "      <th>998</th>\n",
       "      <td>KifkRh0gGD0voBw4FHFCVA</td>\n",
       "      <td>chirping-chicken-new-york-2</td>\n",
       "      <td>Chirping Chicken</td>\n",
       "      <td>https://s3-media1.fl.yelpcdn.com/bphoto/N5pZAL...</td>\n",
       "      <td>False</td>\n",
       "      <td>https://www.yelp.com/biz/chirping-chicken-new-...</td>\n",
       "      <td>660</td>\n",
       "      <td>[{'alias': 'tradamerican', 'title': 'American'...</td>\n",
       "      <td>3.5</td>\n",
       "      <td>{'latitude': 40.7816, 'longitude': -73.97905}</td>\n",
       "      <td>[delivery, pickup]</td>\n",
       "      <td>$$</td>\n",
       "      <td>{'address1': '355 Amsterdam Ave', 'address2': ...</td>\n",
       "      <td>+12127876631</td>\n",
       "      <td>(212) 787-6631</td>\n",
       "      <td>8565.309536</td>\n",
       "    </tr>\n",
       "    <tr>\n",
       "      <th>999</th>\n",
       "      <td>KYqmJsGwTCOPWY2_--8aOg</td>\n",
       "      <td>elsie-lane-new-hyde-park-2</td>\n",
       "      <td>Elsie Lane</td>\n",
       "      <td>https://s3-media3.fl.yelpcdn.com/bphoto/mxM8vF...</td>\n",
       "      <td>False</td>\n",
       "      <td>https://www.yelp.com/biz/elsie-lane-new-hyde-p...</td>\n",
       "      <td>168</td>\n",
       "      <td>[{'alias': 'bars', 'title': 'Bars'}, {'alias':...</td>\n",
       "      <td>4.0</td>\n",
       "      <td>{'latitude': 40.73118, 'longitude': -73.69297}</td>\n",
       "      <td>[delivery, pickup]</td>\n",
       "      <td>$$</td>\n",
       "      <td>{'address1': '29 Jericho Turnpike', 'address2'...</td>\n",
       "      <td>+15163028412</td>\n",
       "      <td>(516) 302-8412</td>\n",
       "      <td>25555.991477</td>\n",
       "    </tr>\n",
       "  </tbody>\n",
       "</table>\n",
       "</div>"
      ],
      "text/plain": [
       "                         id                           alias  \\\n",
       "995  nEe-yQHNVXLmKj_GLLcElw          sheikh-shack-jamaica-2   \n",
       "996  aGmh7n-HXgcIPs5xFhK2Tw         bosna-express-ridgewood   \n",
       "997  pGZ4AOzVlhveJi6WJ1Xz6g  bareburger-park-slope-brooklyn   \n",
       "998  KifkRh0gGD0voBw4FHFCVA     chirping-chicken-new-york-2   \n",
       "999  KYqmJsGwTCOPWY2_--8aOg      elsie-lane-new-hyde-park-2   \n",
       "\n",
       "                        name  \\\n",
       "995             Sheikh Shack   \n",
       "996            Bosna Express   \n",
       "997  Bareburger - Park Slope   \n",
       "998         Chirping Chicken   \n",
       "999               Elsie Lane   \n",
       "\n",
       "                                             image_url  is_closed  \\\n",
       "995  https://s3-media1.fl.yelpcdn.com/bphoto/Udc5SK...      False   \n",
       "996  https://s3-media3.fl.yelpcdn.com/bphoto/mLjai1...      False   \n",
       "997  https://s3-media3.fl.yelpcdn.com/bphoto/7TBH3P...      False   \n",
       "998  https://s3-media1.fl.yelpcdn.com/bphoto/N5pZAL...      False   \n",
       "999  https://s3-media3.fl.yelpcdn.com/bphoto/mxM8vF...      False   \n",
       "\n",
       "                                                   url  review_count  \\\n",
       "995  https://www.yelp.com/biz/sheikh-shack-jamaica-...            41   \n",
       "996  https://www.yelp.com/biz/bosna-express-ridgewo...            69   \n",
       "997  https://www.yelp.com/biz/bareburger-park-slope...           533   \n",
       "998  https://www.yelp.com/biz/chirping-chicken-new-...           660   \n",
       "999  https://www.yelp.com/biz/elsie-lane-new-hyde-p...           168   \n",
       "\n",
       "                                            categories  rating  \\\n",
       "995  [{'alias': 'halal', 'title': 'Halal'}, {'alias...     4.5   \n",
       "996  [{'alias': 'burgers', 'title': 'Burgers'}, {'a...     4.0   \n",
       "997  [{'alias': 'burgers', 'title': 'Burgers'}, {'a...     3.5   \n",
       "998  [{'alias': 'tradamerican', 'title': 'American'...     3.5   \n",
       "999  [{'alias': 'bars', 'title': 'Bars'}, {'alias':...     4.0   \n",
       "\n",
       "                                           coordinates        transactions  \\\n",
       "995  {'latitude': 40.71826657788154, 'longitude': -...  [delivery, pickup]   \n",
       "996  {'latitude': 40.7047891351813, 'longitude': -7...  [delivery, pickup]   \n",
       "997     {'latitude': 40.67188, 'longitude': -73.97761}  [delivery, pickup]   \n",
       "998      {'latitude': 40.7816, 'longitude': -73.97905}  [delivery, pickup]   \n",
       "999     {'latitude': 40.73118, 'longitude': -73.69297}  [delivery, pickup]   \n",
       "\n",
       "    price                                           location         phone  \\\n",
       "995    $$  {'address1': '82-37 164th St', 'address2': '',...  +13478293052   \n",
       "996     $  {'address1': '791 Fairview Ave', 'address2': '...  +17184977577   \n",
       "997    $$  {'address1': '170 7th Ave', 'address2': '', 'a...  +17187682273   \n",
       "998    $$  {'address1': '355 Amsterdam Ave', 'address2': ...  +12127876631   \n",
       "999    $$  {'address1': '29 Jericho Turnpike', 'address2'...  +15163028412   \n",
       "\n",
       "      display_phone      distance  \n",
       "995  (347) 829-3052  16149.421298  \n",
       "996  (718) 497-7577   7746.034165  \n",
       "997  (718) 768-2273   3984.887073  \n",
       "998  (212) 787-6631   8565.309536  \n",
       "999  (516) 302-8412  25555.991477  "
      ]
     },
     "metadata": {},
     "output_type": "display_data"
    }
   ],
   "source": [
    "# load final results\n",
    "final_df = pd.read_json(JSON_FILE)\n",
    "display(final_df.head(), final_df.tail())"
   ]
  },
  {
   "cell_type": "code",
   "execution_count": 19,
   "metadata": {},
   "outputs": [
    {
     "data": {
      "text/plain": [
       "0"
      ]
     },
     "execution_count": 19,
     "metadata": {},
     "output_type": "execute_result"
    }
   ],
   "source": [
    "## Drop duplicate ids and confirm there are no more duplicates\n",
    "final_df = final_df.drop_duplicates(subset='id')\n",
    "final_df.duplicated(subset='id').sum()"
   ]
  },
  {
   "cell_type": "code",
   "execution_count": 21,
   "metadata": {},
   "outputs": [],
   "source": [
    "# save the final results to a compressed csv\n",
    "final_df.to_csv('Data/final_results_NY_Burger.csv.gz', compression='gzip',index=False)"
   ]
  }
 ],
 "metadata": {
  "kernelspec": {
   "display_name": "Python 3",
   "language": "python",
   "name": "python3"
  },
  "language_info": {
   "codemirror_mode": {
    "name": "ipython",
    "version": 3
   },
   "file_extension": ".py",
   "mimetype": "text/x-python",
   "name": "python",
   "nbconvert_exporter": "python",
   "pygments_lexer": "ipython3",
   "version": "3.10.11"
  }
 },
 "nbformat": 4,
 "nbformat_minor": 2
}
