{
 "cells": [
  {
   "cell_type": "code",
   "execution_count": 1,
   "metadata": {},
   "outputs": [],
   "source": [
    "# Standard Imports\n",
    "import numpy as np\n",
    "import pandas as pd\n",
    "import matplotlib.pyplot as plt\n",
    "import seaborn as sns\n",
    "# Additional Imports\n",
    "import os, json, math, time\n",
    "from yelpapi import YelpAPI\n",
    "from tqdm.notebook import tqdm_notebook"
   ]
  },
  {
   "cell_type": "code",
   "execution_count": 2,
   "metadata": {},
   "outputs": [],
   "source": [
    "# Load API Credentials\n",
    "with open('/Users/CHBAM/.secret/yelp_api.json') as f:\n",
    "    login = json.load(f)\n",
    "yelp_api = YelpAPI(login['api-key'], timeout_s=5.0)"
   ]
  },
  {
   "cell_type": "code",
   "execution_count": 11,
   "metadata": {},
   "outputs": [],
   "source": [
    "# set our API call parameters \n",
    "LOCATION = 'TX,TX'\n",
    "TERM = 'Lasagna'"
   ]
  },
  {
   "cell_type": "code",
   "execution_count": 12,
   "metadata": {},
   "outputs": [
    {
     "name": "stdout",
     "output_type": "stream",
     "text": [
      "[i] Data/results_tx_Lasagna.json not found. Saving empty list to file.\n"
     ]
    }
   ],
   "source": [
    "JSON_FILE = \"Data/results_tx_Lasagna.json\"\n",
    "folder = os.path.dirname(JSON_FILE)\n",
    "## If JSON_FILE included a folder:\n",
    "if len(folder)>0:\n",
    "   # create the folder\n",
    "   os.makedirs(folder,exist_ok=True)\n",
    "   \n",
    "## INFORM USER AND SAVE EMPTY LIST\n",
    "print(f'[i] {JSON_FILE} not found. Saving empty list to file.')\n",
    "\n",
    "\n",
    "# save an empty list\n",
    "with open(JSON_FILE,'w') as f:\n",
    "   json.dump([],f)  "
   ]
  },
  {
   "cell_type": "code",
   "execution_count": 13,
   "metadata": {},
   "outputs": [
    {
     "data": {
      "text/plain": [
       "dict_keys(['businesses', 'total', 'region'])"
      ]
     },
     "execution_count": 13,
     "metadata": {},
     "output_type": "execute_result"
    }
   ],
   "source": [
    "# use our yelp_api variable's search_query method to perform our API call\n",
    "results = yelp_api.search_query(location=LOCATION,\n",
    "                                term=TERM,\n",
    "                                offset=0)\n",
    "results.keys()"
   ]
  },
  {
   "cell_type": "code",
   "execution_count": 14,
   "metadata": {},
   "outputs": [
    {
     "data": {
      "text/plain": [
       "547"
      ]
     },
     "execution_count": 14,
     "metadata": {},
     "output_type": "execute_result"
    }
   ],
   "source": [
    "total_results = results['total']\n",
    "total_results"
   ]
  },
  {
   "cell_type": "code",
   "execution_count": 15,
   "metadata": {},
   "outputs": [
    {
     "data": {
      "text/plain": [
       "20"
      ]
     },
     "execution_count": 15,
     "metadata": {},
     "output_type": "execute_result"
    }
   ],
   "source": [
    "## How many did we get the details for?\n",
    "results_per_page = len(results['businesses'])\n",
    "results_per_page"
   ]
  },
  {
   "cell_type": "code",
   "execution_count": 16,
   "metadata": {},
   "outputs": [
    {
     "data": {
      "text/plain": [
       "28"
      ]
     },
     "execution_count": 16,
     "metadata": {},
     "output_type": "execute_result"
    }
   ],
   "source": [
    "# Import additional packages for controlling our loop\n",
    "import time, math\n",
    "# Use math.ceil to round up for the total number of pages of results.\n",
    "n_pages = math.ceil((results['total']-0)/ results_per_page)\n",
    "n_pages"
   ]
  },
  {
   "cell_type": "code",
   "execution_count": 17,
   "metadata": {},
   "outputs": [
    {
     "data": {
      "application/vnd.jupyter.widget-view+json": {
       "model_id": "4b490cb951c04fbf932d4e4174912f44",
       "version_major": 2,
       "version_minor": 0
      },
      "text/plain": [
       "  0%|          | 0/28 [00:00<?, ?it/s]"
      ]
     },
     "metadata": {},
     "output_type": "display_data"
    }
   ],
   "source": [
    "from tqdm.notebook import tqdm_notebook\n",
    "import time\n",
    "for i in tqdm_notebook(range(n_pages)):\n",
    "    # adds 200 ms pause\n",
    "    time.sleep(.2) "
   ]
  },
  {
   "cell_type": "code",
   "execution_count": 18,
   "metadata": {},
   "outputs": [
    {
     "data": {
      "application/vnd.jupyter.widget-view+json": {
       "model_id": "28d67414d7a34e11865ea300e5d683c8",
       "version_major": 2,
       "version_minor": 0
      },
      "text/plain": [
       "  0%|          | 0/28 [00:00<?, ?it/s]"
      ]
     },
     "metadata": {},
     "output_type": "display_data"
    }
   ],
   "source": [
    "for i in tqdm_notebook( range(1,n_pages+1)):\n",
    "    \n",
    "    ## Read in results in progress file and check the length\n",
    "    with open(JSON_FILE, 'r') as f:\n",
    "        previous_results = json.load(f)\n",
    "    ## save number of results for to use as offset\n",
    "    n_results = len(previous_results)\n",
    "    ## use n_results as the OFFSET \n",
    "    try:\n",
    "      results = yelp_api.search_query(location=LOCATION,\n",
    "                                       term=TERM, \n",
    "                                       offset=n_results)\n",
    "    except:\n",
    "        print('Error encountered on :' , results)\n",
    "    ## append new results and save to file\n",
    "    previous_results.extend(results['businesses'])\n",
    "    \n",
    "    with open(JSON_FILE,'w') as f:\n",
    "        json.dump(previous_results,f)\n",
    "    \n",
    "    # add a 300ms pause\n",
    "    time.sleep(.3)"
   ]
  },
  {
   "cell_type": "code",
   "execution_count": 19,
   "metadata": {},
   "outputs": [
    {
     "data": {
      "text/html": [
       "<div>\n",
       "<style scoped>\n",
       "    .dataframe tbody tr th:only-of-type {\n",
       "        vertical-align: middle;\n",
       "    }\n",
       "\n",
       "    .dataframe tbody tr th {\n",
       "        vertical-align: top;\n",
       "    }\n",
       "\n",
       "    .dataframe thead th {\n",
       "        text-align: right;\n",
       "    }\n",
       "</style>\n",
       "<table border=\"1\" class=\"dataframe\">\n",
       "  <thead>\n",
       "    <tr style=\"text-align: right;\">\n",
       "      <th></th>\n",
       "      <th>id</th>\n",
       "      <th>alias</th>\n",
       "      <th>name</th>\n",
       "      <th>image_url</th>\n",
       "      <th>is_closed</th>\n",
       "      <th>url</th>\n",
       "      <th>review_count</th>\n",
       "      <th>categories</th>\n",
       "      <th>rating</th>\n",
       "      <th>coordinates</th>\n",
       "      <th>transactions</th>\n",
       "      <th>price</th>\n",
       "      <th>location</th>\n",
       "      <th>phone</th>\n",
       "      <th>display_phone</th>\n",
       "      <th>distance</th>\n",
       "    </tr>\n",
       "  </thead>\n",
       "  <tbody>\n",
       "    <tr>\n",
       "      <th>0</th>\n",
       "      <td>McwaN30rgpfIpyDPT913Vw</td>\n",
       "      <td>fabios-artisan-pasta-houston</td>\n",
       "      <td>Fabio's Artisan Pasta</td>\n",
       "      <td>https://s3-media1.fl.yelpcdn.com/bphoto/Um6Q53...</td>\n",
       "      <td>False</td>\n",
       "      <td>https://www.yelp.com/biz/fabios-artisan-pasta-...</td>\n",
       "      <td>323</td>\n",
       "      <td>[{'alias': 'pastashops', 'title': 'Pasta Shops'}]</td>\n",
       "      <td>5.0</td>\n",
       "      <td>{'latitude': 29.73823, 'longitude': -95.41208}</td>\n",
       "      <td>[]</td>\n",
       "      <td>$$</td>\n",
       "      <td>{'address1': '2129 W Alabama St', 'address2': ...</td>\n",
       "      <td>+17135281329</td>\n",
       "      <td>(713) 528-1329</td>\n",
       "      <td>5740.673231</td>\n",
       "    </tr>\n",
       "    <tr>\n",
       "      <th>1</th>\n",
       "      <td>GAujfOsl26j_BcGLU0Ir5g</td>\n",
       "      <td>bellissimo-houston</td>\n",
       "      <td>Bellissimo</td>\n",
       "      <td>https://s3-media2.fl.yelpcdn.com/bphoto/9wsPmY...</td>\n",
       "      <td>False</td>\n",
       "      <td>https://www.yelp.com/biz/bellissimo-houston?ad...</td>\n",
       "      <td>54</td>\n",
       "      <td>[{'alias': 'italian', 'title': 'Italian'}]</td>\n",
       "      <td>4.5</td>\n",
       "      <td>{'latitude': 29.81634, 'longitude': -95.38732}</td>\n",
       "      <td>[pickup, delivery]</td>\n",
       "      <td>NaN</td>\n",
       "      <td>{'address1': '902 E 33rd St', 'address2': '', ...</td>\n",
       "      <td>+18326181168</td>\n",
       "      <td>(832) 618-1168</td>\n",
       "      <td>6489.632602</td>\n",
       "    </tr>\n",
       "    <tr>\n",
       "      <th>2</th>\n",
       "      <td>k8wZ3wCkCRJmVoPVL80CMQ</td>\n",
       "      <td>lasagna-house-iii-houston-2</td>\n",
       "      <td>Lasagna House III</td>\n",
       "      <td>https://s3-media1.fl.yelpcdn.com/bphoto/X444MT...</td>\n",
       "      <td>False</td>\n",
       "      <td>https://www.yelp.com/biz/lasagna-house-iii-hou...</td>\n",
       "      <td>288</td>\n",
       "      <td>[{'alias': 'italian', 'title': 'Italian'}]</td>\n",
       "      <td>4.0</td>\n",
       "      <td>{'latitude': 29.7371678493099, 'longitude': -9...</td>\n",
       "      <td>[delivery]</td>\n",
       "      <td>$$</td>\n",
       "      <td>{'address1': '13306 Westheimer Rd', 'address2'...</td>\n",
       "      <td>+12814969114</td>\n",
       "      <td>(281) 496-9114</td>\n",
       "      <td>25717.447239</td>\n",
       "    </tr>\n",
       "    <tr>\n",
       "      <th>3</th>\n",
       "      <td>KDkl-gEvbOyEYzuI6JNAlA</td>\n",
       "      <td>mandolas-deli-houston</td>\n",
       "      <td>Mandola's Deli</td>\n",
       "      <td>https://s3-media4.fl.yelpcdn.com/bphoto/Qluxqp...</td>\n",
       "      <td>False</td>\n",
       "      <td>https://www.yelp.com/biz/mandolas-deli-houston...</td>\n",
       "      <td>336</td>\n",
       "      <td>[{'alias': 'delis', 'title': 'Delis'}, {'alias...</td>\n",
       "      <td>4.5</td>\n",
       "      <td>{'latitude': 29.73755, 'longitude': -95.33926}</td>\n",
       "      <td>[delivery]</td>\n",
       "      <td>$</td>\n",
       "      <td>{'address1': '4105 Leeland St', 'address2': ''...</td>\n",
       "      <td>+17132235186</td>\n",
       "      <td>(713) 223-5186</td>\n",
       "      <td>3452.877569</td>\n",
       "    </tr>\n",
       "    <tr>\n",
       "      <th>4</th>\n",
       "      <td>x4WealiPVG-tzwzhe7nvpw</td>\n",
       "      <td>north-italia-houston</td>\n",
       "      <td>North Italia</td>\n",
       "      <td>https://s3-media3.fl.yelpcdn.com/bphoto/jNVzNb...</td>\n",
       "      <td>False</td>\n",
       "      <td>https://www.yelp.com/biz/north-italia-houston?...</td>\n",
       "      <td>2279</td>\n",
       "      <td>[{'alias': 'pizza', 'title': 'Pizza'}, {'alias...</td>\n",
       "      <td>4.5</td>\n",
       "      <td>{'latitude': 29.7485868638914, 'longitude': -9...</td>\n",
       "      <td>[delivery]</td>\n",
       "      <td>$$</td>\n",
       "      <td>{'address1': '1700 Post Oak Blvd', 'address2':...</td>\n",
       "      <td>+12816054030</td>\n",
       "      <td>(281) 605-4030</td>\n",
       "      <td>9983.179391</td>\n",
       "    </tr>\n",
       "  </tbody>\n",
       "</table>\n",
       "</div>"
      ],
      "text/plain": [
       "                       id                         alias  \\\n",
       "0  McwaN30rgpfIpyDPT913Vw  fabios-artisan-pasta-houston   \n",
       "1  GAujfOsl26j_BcGLU0Ir5g            bellissimo-houston   \n",
       "2  k8wZ3wCkCRJmVoPVL80CMQ   lasagna-house-iii-houston-2   \n",
       "3  KDkl-gEvbOyEYzuI6JNAlA         mandolas-deli-houston   \n",
       "4  x4WealiPVG-tzwzhe7nvpw          north-italia-houston   \n",
       "\n",
       "                    name                                          image_url  \\\n",
       "0  Fabio's Artisan Pasta  https://s3-media1.fl.yelpcdn.com/bphoto/Um6Q53...   \n",
       "1             Bellissimo  https://s3-media2.fl.yelpcdn.com/bphoto/9wsPmY...   \n",
       "2      Lasagna House III  https://s3-media1.fl.yelpcdn.com/bphoto/X444MT...   \n",
       "3         Mandola's Deli  https://s3-media4.fl.yelpcdn.com/bphoto/Qluxqp...   \n",
       "4           North Italia  https://s3-media3.fl.yelpcdn.com/bphoto/jNVzNb...   \n",
       "\n",
       "   is_closed                                                url  review_count  \\\n",
       "0      False  https://www.yelp.com/biz/fabios-artisan-pasta-...           323   \n",
       "1      False  https://www.yelp.com/biz/bellissimo-houston?ad...            54   \n",
       "2      False  https://www.yelp.com/biz/lasagna-house-iii-hou...           288   \n",
       "3      False  https://www.yelp.com/biz/mandolas-deli-houston...           336   \n",
       "4      False  https://www.yelp.com/biz/north-italia-houston?...          2279   \n",
       "\n",
       "                                          categories  rating  \\\n",
       "0  [{'alias': 'pastashops', 'title': 'Pasta Shops'}]     5.0   \n",
       "1         [{'alias': 'italian', 'title': 'Italian'}]     4.5   \n",
       "2         [{'alias': 'italian', 'title': 'Italian'}]     4.0   \n",
       "3  [{'alias': 'delis', 'title': 'Delis'}, {'alias...     4.5   \n",
       "4  [{'alias': 'pizza', 'title': 'Pizza'}, {'alias...     4.5   \n",
       "\n",
       "                                         coordinates        transactions  \\\n",
       "0     {'latitude': 29.73823, 'longitude': -95.41208}                  []   \n",
       "1     {'latitude': 29.81634, 'longitude': -95.38732}  [pickup, delivery]   \n",
       "2  {'latitude': 29.7371678493099, 'longitude': -9...          [delivery]   \n",
       "3     {'latitude': 29.73755, 'longitude': -95.33926}          [delivery]   \n",
       "4  {'latitude': 29.7485868638914, 'longitude': -9...          [delivery]   \n",
       "\n",
       "  price                                           location         phone  \\\n",
       "0    $$  {'address1': '2129 W Alabama St', 'address2': ...  +17135281329   \n",
       "1   NaN  {'address1': '902 E 33rd St', 'address2': '', ...  +18326181168   \n",
       "2    $$  {'address1': '13306 Westheimer Rd', 'address2'...  +12814969114   \n",
       "3     $  {'address1': '4105 Leeland St', 'address2': ''...  +17132235186   \n",
       "4    $$  {'address1': '1700 Post Oak Blvd', 'address2':...  +12816054030   \n",
       "\n",
       "    display_phone      distance  \n",
       "0  (713) 528-1329   5740.673231  \n",
       "1  (832) 618-1168   6489.632602  \n",
       "2  (281) 496-9114  25717.447239  \n",
       "3  (713) 223-5186   3452.877569  \n",
       "4  (281) 605-4030   9983.179391  "
      ]
     },
     "metadata": {},
     "output_type": "display_data"
    },
    {
     "data": {
      "text/html": [
       "<div>\n",
       "<style scoped>\n",
       "    .dataframe tbody tr th:only-of-type {\n",
       "        vertical-align: middle;\n",
       "    }\n",
       "\n",
       "    .dataframe tbody tr th {\n",
       "        vertical-align: top;\n",
       "    }\n",
       "\n",
       "    .dataframe thead th {\n",
       "        text-align: right;\n",
       "    }\n",
       "</style>\n",
       "<table border=\"1\" class=\"dataframe\">\n",
       "  <thead>\n",
       "    <tr style=\"text-align: right;\">\n",
       "      <th></th>\n",
       "      <th>id</th>\n",
       "      <th>alias</th>\n",
       "      <th>name</th>\n",
       "      <th>image_url</th>\n",
       "      <th>is_closed</th>\n",
       "      <th>url</th>\n",
       "      <th>review_count</th>\n",
       "      <th>categories</th>\n",
       "      <th>rating</th>\n",
       "      <th>coordinates</th>\n",
       "      <th>transactions</th>\n",
       "      <th>price</th>\n",
       "      <th>location</th>\n",
       "      <th>phone</th>\n",
       "      <th>display_phone</th>\n",
       "      <th>distance</th>\n",
       "    </tr>\n",
       "  </thead>\n",
       "  <tbody>\n",
       "    <tr>\n",
       "      <th>540</th>\n",
       "      <td>-yzDKjByXsyVYN5Z2Fk3Hw</td>\n",
       "      <td>dennys-spring-5</td>\n",
       "      <td>Denny's</td>\n",
       "      <td>https://s3-media2.fl.yelpcdn.com/bphoto/LI3NV0...</td>\n",
       "      <td>False</td>\n",
       "      <td>https://www.yelp.com/biz/dennys-spring-5?adjus...</td>\n",
       "      <td>80</td>\n",
       "      <td>[{'alias': 'diners', 'title': 'Diners'}, {'ali...</td>\n",
       "      <td>3.0</td>\n",
       "      <td>{'latitude': 30.0542536148866, 'longitude': -9...</td>\n",
       "      <td>[delivery, pickup]</td>\n",
       "      <td>$</td>\n",
       "      <td>{'address1': '20015 I-45 N', 'address2': '', '...</td>\n",
       "      <td>+12813506184</td>\n",
       "      <td>(281) 350-6184</td>\n",
       "      <td>33143.412570</td>\n",
       "    </tr>\n",
       "    <tr>\n",
       "      <th>541</th>\n",
       "      <td>egmNNzOZxQY_aqt_5bLOVQ</td>\n",
       "      <td>dennys-sugar-land</td>\n",
       "      <td>Denny's</td>\n",
       "      <td>https://s3-media1.fl.yelpcdn.com/bphoto/D4OHH2...</td>\n",
       "      <td>False</td>\n",
       "      <td>https://www.yelp.com/biz/dennys-sugar-land?adj...</td>\n",
       "      <td>110</td>\n",
       "      <td>[{'alias': 'diners', 'title': 'Diners'}, {'ali...</td>\n",
       "      <td>2.5</td>\n",
       "      <td>{'latitude': 29.601682104609, 'longitude': -95...</td>\n",
       "      <td>[delivery, pickup]</td>\n",
       "      <td>$</td>\n",
       "      <td>{'address1': '1422 State Hwy 6 S', 'address2':...</td>\n",
       "      <td>+12812400327</td>\n",
       "      <td>(281) 240-0327</td>\n",
       "      <td>31909.978663</td>\n",
       "    </tr>\n",
       "    <tr>\n",
       "      <th>542</th>\n",
       "      <td>UymA6289ijCFiU7kvMAlFg</td>\n",
       "      <td>dennys-spring-7</td>\n",
       "      <td>Denny's</td>\n",
       "      <td>https://s3-media1.fl.yelpcdn.com/bphoto/SWah7u...</td>\n",
       "      <td>False</td>\n",
       "      <td>https://www.yelp.com/biz/dennys-spring-7?adjus...</td>\n",
       "      <td>53</td>\n",
       "      <td>[{'alias': 'tradamerican', 'title': 'American'...</td>\n",
       "      <td>3.0</td>\n",
       "      <td>{'latitude': 30.0745147, 'longitude': -95.5232...</td>\n",
       "      <td>[delivery, pickup]</td>\n",
       "      <td>$</td>\n",
       "      <td>{'address1': '6504 Fm 2920', 'address2': '', '...</td>\n",
       "      <td>+12813792725</td>\n",
       "      <td>(281) 379-2725</td>\n",
       "      <td>38044.271493</td>\n",
       "    </tr>\n",
       "    <tr>\n",
       "      <th>543</th>\n",
       "      <td>Pmin3vyANl_UBU4SY-H54g</td>\n",
       "      <td>golden-corral-buffet-and-grill-humble-2</td>\n",
       "      <td>Golden Corral Buffet &amp; Grill</td>\n",
       "      <td>https://s3-media4.fl.yelpcdn.com/bphoto/xaHCO1...</td>\n",
       "      <td>False</td>\n",
       "      <td>https://www.yelp.com/biz/golden-corral-buffet-...</td>\n",
       "      <td>81</td>\n",
       "      <td>[{'alias': 'buffets', 'title': 'Buffets'}, {'a...</td>\n",
       "      <td>2.0</td>\n",
       "      <td>{'latitude': 30.0055813804803, 'longitude': -9...</td>\n",
       "      <td>[delivery]</td>\n",
       "      <td>$$</td>\n",
       "      <td>{'address1': '9663 Fm 1960 Bypass', 'address2'...</td>\n",
       "      <td>+12815401051</td>\n",
       "      <td>(281) 540-1051</td>\n",
       "      <td>28103.357838</td>\n",
       "    </tr>\n",
       "    <tr>\n",
       "      <th>544</th>\n",
       "      <td>dNYJtjtZlqX0lPWwp-9ybg</td>\n",
       "      <td>pizza-hut-cypress-3</td>\n",
       "      <td>Pizza Hut</td>\n",
       "      <td>https://s3-media4.fl.yelpcdn.com/bphoto/J3fG_B...</td>\n",
       "      <td>False</td>\n",
       "      <td>https://www.yelp.com/biz/pizza-hut-cypress-3?a...</td>\n",
       "      <td>56</td>\n",
       "      <td>[{'alias': 'pizza', 'title': 'Pizza'}, {'alias...</td>\n",
       "      <td>1.5</td>\n",
       "      <td>{'latitude': 29.98314459530259, 'longitude': -...</td>\n",
       "      <td>[delivery]</td>\n",
       "      <td>$</td>\n",
       "      <td>{'address1': '13750 N Eldridge Pkwy', 'address...</td>\n",
       "      <td>+12812576172</td>\n",
       "      <td>(281) 257-6172</td>\n",
       "      <td>34414.259910</td>\n",
       "    </tr>\n",
       "  </tbody>\n",
       "</table>\n",
       "</div>"
      ],
      "text/plain": [
       "                         id                                    alias  \\\n",
       "540  -yzDKjByXsyVYN5Z2Fk3Hw                          dennys-spring-5   \n",
       "541  egmNNzOZxQY_aqt_5bLOVQ                        dennys-sugar-land   \n",
       "542  UymA6289ijCFiU7kvMAlFg                          dennys-spring-7   \n",
       "543  Pmin3vyANl_UBU4SY-H54g  golden-corral-buffet-and-grill-humble-2   \n",
       "544  dNYJtjtZlqX0lPWwp-9ybg                      pizza-hut-cypress-3   \n",
       "\n",
       "                             name  \\\n",
       "540                       Denny's   \n",
       "541                       Denny's   \n",
       "542                       Denny's   \n",
       "543  Golden Corral Buffet & Grill   \n",
       "544                     Pizza Hut   \n",
       "\n",
       "                                             image_url  is_closed  \\\n",
       "540  https://s3-media2.fl.yelpcdn.com/bphoto/LI3NV0...      False   \n",
       "541  https://s3-media1.fl.yelpcdn.com/bphoto/D4OHH2...      False   \n",
       "542  https://s3-media1.fl.yelpcdn.com/bphoto/SWah7u...      False   \n",
       "543  https://s3-media4.fl.yelpcdn.com/bphoto/xaHCO1...      False   \n",
       "544  https://s3-media4.fl.yelpcdn.com/bphoto/J3fG_B...      False   \n",
       "\n",
       "                                                   url  review_count  \\\n",
       "540  https://www.yelp.com/biz/dennys-spring-5?adjus...            80   \n",
       "541  https://www.yelp.com/biz/dennys-sugar-land?adj...           110   \n",
       "542  https://www.yelp.com/biz/dennys-spring-7?adjus...            53   \n",
       "543  https://www.yelp.com/biz/golden-corral-buffet-...            81   \n",
       "544  https://www.yelp.com/biz/pizza-hut-cypress-3?a...            56   \n",
       "\n",
       "                                            categories  rating  \\\n",
       "540  [{'alias': 'diners', 'title': 'Diners'}, {'ali...     3.0   \n",
       "541  [{'alias': 'diners', 'title': 'Diners'}, {'ali...     2.5   \n",
       "542  [{'alias': 'tradamerican', 'title': 'American'...     3.0   \n",
       "543  [{'alias': 'buffets', 'title': 'Buffets'}, {'a...     2.0   \n",
       "544  [{'alias': 'pizza', 'title': 'Pizza'}, {'alias...     1.5   \n",
       "\n",
       "                                           coordinates        transactions  \\\n",
       "540  {'latitude': 30.0542536148866, 'longitude': -9...  [delivery, pickup]   \n",
       "541  {'latitude': 29.601682104609, 'longitude': -95...  [delivery, pickup]   \n",
       "542  {'latitude': 30.0745147, 'longitude': -95.5232...  [delivery, pickup]   \n",
       "543  {'latitude': 30.0055813804803, 'longitude': -9...          [delivery]   \n",
       "544  {'latitude': 29.98314459530259, 'longitude': -...          [delivery]   \n",
       "\n",
       "    price                                           location         phone  \\\n",
       "540     $  {'address1': '20015 I-45 N', 'address2': '', '...  +12813506184   \n",
       "541     $  {'address1': '1422 State Hwy 6 S', 'address2':...  +12812400327   \n",
       "542     $  {'address1': '6504 Fm 2920', 'address2': '', '...  +12813792725   \n",
       "543    $$  {'address1': '9663 Fm 1960 Bypass', 'address2'...  +12815401051   \n",
       "544     $  {'address1': '13750 N Eldridge Pkwy', 'address...  +12812576172   \n",
       "\n",
       "      display_phone      distance  \n",
       "540  (281) 350-6184  33143.412570  \n",
       "541  (281) 240-0327  31909.978663  \n",
       "542  (281) 379-2725  38044.271493  \n",
       "543  (281) 540-1051  28103.357838  \n",
       "544  (281) 257-6172  34414.259910  "
      ]
     },
     "metadata": {},
     "output_type": "display_data"
    }
   ],
   "source": [
    "# load final results\n",
    "final_df = pd.read_json(JSON_FILE)\n",
    "display(final_df.head(), final_df.tail())"
   ]
  },
  {
   "cell_type": "code",
   "execution_count": 20,
   "metadata": {},
   "outputs": [
    {
     "data": {
      "text/plain": [
       "0"
      ]
     },
     "execution_count": 20,
     "metadata": {},
     "output_type": "execute_result"
    }
   ],
   "source": [
    "## Drop duplicate ids and confirm there are no more duplicates\n",
    "final_df = final_df.drop_duplicates(subset='id')\n",
    "final_df.duplicated(subset='id').sum()"
   ]
  },
  {
   "cell_type": "code",
   "execution_count": 21,
   "metadata": {},
   "outputs": [],
   "source": [
    "# save the final results to a compressed csv\n",
    "final_df.to_csv('Data/final_results_tx_lasagna.csv.gz', compression='gzip',index=False)"
   ]
  }
 ],
 "metadata": {
  "kernelspec": {
   "display_name": "Python 3",
   "language": "python",
   "name": "python3"
  },
  "language_info": {
   "codemirror_mode": {
    "name": "ipython",
    "version": 3
   },
   "file_extension": ".py",
   "mimetype": "text/x-python",
   "name": "python",
   "nbconvert_exporter": "python",
   "pygments_lexer": "ipython3",
   "version": "3.10.11"
  }
 },
 "nbformat": 4,
 "nbformat_minor": 2
}
